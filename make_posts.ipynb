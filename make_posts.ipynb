{
 "cells": [
  {
   "cell_type": "code",
   "execution_count": 14,
   "metadata": {},
   "outputs": [
    {
     "name": "stdout",
     "output_type": "stream",
     "text": [
      "What are some of the dumbest things doctors can say to overweight patients?\n"
     ]
    }
   ],
   "source": [
    "# Use the fine-tuned model to generate a response to a user post on r/AskReddit\n",
    "import os\n",
    "from openai import AzureOpenAI\n",
    "\n",
    "fine_tuned_model = \"gpt-35-turbo-0125-askreddit-posts\"\n",
    "system_message_post = \"You are an reddit user posting on r/AskReddit.\"\n",
    "user_message_post = \"Ask a question for the users of r/AskReddit\"\n",
    "\n",
    "client = AzureOpenAI(\n",
    "  azure_endpoint = os.getenv(\"AZURE_OPENAI_ENDPOINT\"),\n",
    "  api_key = os.getenv(\"AZURE_OPENAI_API_KEY\"),\n",
    "  api_version = \"2024-02-01\"\n",
    ")\n",
    "\n",
    "response = client.chat.completions.create(\n",
    "    model = fine_tuned_model,\n",
    "    messages = [\n",
    "        {\n",
    "            \"role\": \"system\",\n",
    "            \"content\": system_message_post\n",
    "        },\n",
    "        {\n",
    "            \"role\": \"user\",\n",
    "            \"content\": user_message_post\n",
    "        }\n",
    "    ],\n",
    "    )\n",
    "\n",
    "print(response.choices[0].message.content)"
   ]
  },
  {
   "cell_type": "code",
   "execution_count": 16,
   "metadata": {},
   "outputs": [
    {
     "name": "stdout",
     "output_type": "stream",
     "text": [
      "Post 1: April 24, 2022: it's Tatooine, where are you gonna go?\n",
      "Post 2: Is there a food that is so nasty just eating it gives you war flashbacks? What is it and why?\n",
      "Post 3: Elderly of Reddit what is your favorite thing about being older?\n",
      "Post 4: Americans constantly get told how bad the country is but what are your guys perspective on the current state of the European Union?\n",
      "Post 5: If your clothes could talk, what would they say?\n",
      "Post 6: What life-saving tip have you learned from movies?\n",
      "Post 7: What’s the biggest mistake most people make when trying to lose weight?\n",
      "Post 8: What is your *I can’t get into it* with so much disappointment.\n",
      "Post 9: What is a fact that keeps you up at night?\n",
      "Post 10: What do people think makes them more attractive but actually has the opposite effect?\n",
      "Post 11: What is 100% real, non-silver object , weirder than an alien?\n",
      "Post 12: Men of Reddit, what's your opinion on women in the gym?\n",
      "Post 13: Which city only idiots visit?\n",
      "Post 14: Reddit, what’s the worst thing one human can say to another in the bedroom?\n",
      "Post 15: What’s the most unprofessional thing a doctor has said to you?\n",
      "Post 16: What expensive item is a total RIP off?\n",
      "Post 17: What company suffered such a horrific scandal that they never recovered?\n",
      "Post 18: What sentence has never been said before?\n",
      "Post 19: What is a product that was so good it put the company out of business because nobody needed to buy another one?\n",
      "Post 20: What secret is your child keeping from you?\n"
     ]
    }
   ],
   "source": [
    "# Generate 20 posts and store them in a CSV file called \"generated_posts.csv\"\n",
    "import csv\n",
    "\n",
    "with open(\"generated_posts.csv\", mode=\"w\") as file:\n",
    "    writer = csv.writer(file)\n",
    "    writer.writerow([\"Post Number\", \"Post Content\"])\n",
    "    for i in range(20):\n",
    "        response = client.chat.completions.create(\n",
    "            model = fine_tuned_model,\n",
    "            messages = [\n",
    "                {\n",
    "                    \"role\": \"system\",\n",
    "                    \"content\": system_message_post\n",
    "                },\n",
    "                {\n",
    "                    \"role\": \"user\",\n",
    "                    \"content\": user_message_post\n",
    "                }\n",
    "            ],\n",
    "            )\n",
    "        post_number = i + 1\n",
    "        post_content = response.choices[0].message.content\n",
    "        writer.writerow([post_number, post_content])\n",
    "        print(f\"Post {post_number}: {post_content}\")"
   ]
  }
 ],
 "metadata": {
  "kernelspec": {
   "display_name": "Python 3",
   "language": "python",
   "name": "python3"
  },
  "language_info": {
   "codemirror_mode": {
    "name": "ipython",
    "version": 3
   },
   "file_extension": ".py",
   "mimetype": "text/x-python",
   "name": "python",
   "nbconvert_exporter": "python",
   "pygments_lexer": "ipython3",
   "version": "3.11.9"
  }
 },
 "nbformat": 4,
 "nbformat_minor": 2
}
